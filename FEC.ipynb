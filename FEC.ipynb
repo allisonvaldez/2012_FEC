{
 "cells": [
  {
   "cell_type": "markdown",
   "id": "6f823fdd-6333-4678-a310-d0f30829bc08",
   "metadata": {},
   "source": [
    "# 2012 Federal Election Commission Database\n",
    "\n",
    "The US Federal Election Commission is in charge of publishing data on contributions  to political campaigns. The data is an extremely large file that contains information about a contributor's: name, occupation, employer, address, and contribution amount."
   ]
  },
  {
   "cell_type": "code",
   "execution_count": 19,
   "id": "86fad90b-f3f4-433b-9eda-cbf5e011c3b3",
   "metadata": {},
   "outputs": [],
   "source": [
    "# Start with imports\n",
    "import pandas as pd \n",
    "import numpy as np \n",
    "from csv import reader "
   ]
  },
  {
   "cell_type": "code",
   "execution_count": null,
   "id": "70b10199-bcdf-44fa-99b0-cc6b2ce3e511",
   "metadata": {},
   "outputs": [],
   "source": [
    "# Load data \n",
    "fec = pd.read_csv('P00000001-ALL.csv')"
   ]
  },
  {
   "cell_type": "markdown",
   "id": "12d2d77f-2023-4544-a0b8-b6c1a852a0c3",
   "metadata": {},
   "source": [
    "update "
   ]
  },
  {
   "cell_type": "code",
   "execution_count": null,
   "id": "351e0d73-31f5-4c49-b34e-0cbe5b6e5a9b",
   "metadata": {},
   "outputs": [],
   "source": []
  },
  {
   "cell_type": "code",
   "execution_count": null,
   "id": "533a9372-3766-413b-9ac1-af7aad6a3fb6",
   "metadata": {},
   "outputs": [],
   "source": []
  },
  {
   "cell_type": "code",
   "execution_count": null,
   "id": "4a787dc7-8100-46d9-9288-261185ebe38a",
   "metadata": {},
   "outputs": [],
   "source": []
  },
  {
   "cell_type": "code",
   "execution_count": null,
   "id": "97bd235b-721e-4d25-802a-d47701b4d6a5",
   "metadata": {},
   "outputs": [],
   "source": []
  },
  {
   "cell_type": "code",
   "execution_count": null,
   "id": "36885e8f-81b8-4dd5-a065-b1f292a8ab46",
   "metadata": {},
   "outputs": [],
   "source": []
  },
  {
   "cell_type": "code",
   "execution_count": null,
   "id": "95642ef0-859c-42ef-853e-625c3f371424",
   "metadata": {},
   "outputs": [],
   "source": []
  },
  {
   "cell_type": "code",
   "execution_count": null,
   "id": "c697411d-000a-481c-97d1-ba5ede4f489a",
   "metadata": {},
   "outputs": [],
   "source": []
  },
  {
   "cell_type": "code",
   "execution_count": null,
   "id": "4967a7ef-9cdb-4aea-9f72-850994d6574c",
   "metadata": {},
   "outputs": [],
   "source": []
  },
  {
   "cell_type": "code",
   "execution_count": null,
   "id": "0f7f6cb6-6a21-44a5-b322-f4c2453573ad",
   "metadata": {},
   "outputs": [],
   "source": []
  },
  {
   "cell_type": "code",
   "execution_count": null,
   "id": "77016b88-dbb4-471a-9463-f240c6916e32",
   "metadata": {},
   "outputs": [],
   "source": []
  },
  {
   "cell_type": "code",
   "execution_count": null,
   "id": "55090ff3-b701-4900-80a8-2f3a98785228",
   "metadata": {},
   "outputs": [],
   "source": []
  },
  {
   "cell_type": "code",
   "execution_count": null,
   "id": "84b350ce-036e-4473-add2-806bc988b0b6",
   "metadata": {},
   "outputs": [],
   "source": []
  },
  {
   "cell_type": "code",
   "execution_count": null,
   "id": "c1d9f5cb-6083-4a8e-86d0-d9b42e698334",
   "metadata": {},
   "outputs": [],
   "source": []
  },
  {
   "cell_type": "code",
   "execution_count": null,
   "id": "38381793-6678-4214-ac44-d61d94c337b0",
   "metadata": {},
   "outputs": [],
   "source": []
  },
  {
   "cell_type": "code",
   "execution_count": null,
   "id": "6c8ea823-942b-45d7-b686-e36b4aba292c",
   "metadata": {},
   "outputs": [],
   "source": []
  },
  {
   "cell_type": "code",
   "execution_count": null,
   "id": "e02cf786-c08a-4da2-b376-8ee9340bde59",
   "metadata": {},
   "outputs": [],
   "source": []
  }
 ],
 "metadata": {
  "kernelspec": {
   "display_name": "Python [conda env:base] *",
   "language": "python",
   "name": "conda-base-py"
  },
  "language_info": {
   "codemirror_mode": {
    "name": "ipython",
    "version": 3
   },
   "file_extension": ".py",
   "mimetype": "text/x-python",
   "name": "python",
   "nbconvert_exporter": "python",
   "pygments_lexer": "ipython3",
   "version": "3.12.7"
  }
 },
 "nbformat": 4,
 "nbformat_minor": 5
}
