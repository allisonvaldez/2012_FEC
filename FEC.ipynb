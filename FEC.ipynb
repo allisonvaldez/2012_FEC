{
 "cells": [
  {
   "cell_type": "markdown",
   "id": "6f823fdd-6333-4678-a310-d0f30829bc08",
   "metadata": {},
   "source": [
    "# 2012 Federal Election Commission Database\n",
    "\n",
    "The US Federal Election Commission is in charge of publishing data on contributions  to political campaigns. The data is an extremely large file that contains information about a contributor's: name, occupation, employer, address, and contribution amount."
   ]
  },
  {
   "cell_type": "code",
   "execution_count": 117,
   "id": "86fad90b-f3f4-433b-9eda-cbf5e011c3b3",
   "metadata": {},
   "outputs": [],
   "source": [
    "# Start with imports\n",
    "import pandas as pd \n",
    "import numpy as np \n",
    "import os\n",
    "from csv import reader "
   ]
  },
  {
   "cell_type": "code",
   "execution_count": 119,
   "id": "70b10199-bcdf-44fa-99b0-cc6b2ce3e511",
   "metadata": {},
   "outputs": [],
   "source": [
    "# Load data\n",
    "#fec = pd.read_csv('P00000001-ALL.csv')\n",
    "fec = pd.read_parquet('fec.parquet')"
   ]
  },
  {
   "cell_type": "code",
   "execution_count": 120,
   "id": "33bbc154-2c4e-4afb-850a-d575a4ef0c20",
   "metadata": {},
   "outputs": [
    {
     "name": "stdout",
     "output_type": "stream",
     "text": [
      "134\n"
     ]
    }
   ],
   "source": [
    "print(os.path.getsize('P00000001-ALL.csv'))"
   ]
  },
  {
   "cell_type": "markdown",
   "id": "12d2d77f-2023-4544-a0b8-b6c1a852a0c3",
   "metadata": {},
   "source": [
    "Preview the data: "
   ]
  },
  {
   "cell_type": "code",
   "execution_count": 122,
   "id": "351e0d73-31f5-4c49-b34e-0cbe5b6e5a9b",
   "metadata": {},
   "outputs": [
    {
     "name": "stdout",
     "output_type": "stream",
     "text": [
      "<class 'pandas.core.frame.DataFrame'>\n",
      "RangeIndex: 1001731 entries, 0 to 1001730\n",
      "Data columns (total 16 columns):\n",
      " #   Column             Non-Null Count    Dtype  \n",
      "---  ------             --------------    -----  \n",
      " 0   cmte_id            1001731 non-null  object \n",
      " 1   cand_id            1001731 non-null  object \n",
      " 2   cand_nm            1001731 non-null  object \n",
      " 3   contbr_nm          1001731 non-null  object \n",
      " 4   contbr_city        1001712 non-null  object \n",
      " 5   contbr_st          1001727 non-null  object \n",
      " 6   contbr_zip         1001620 non-null  object \n",
      " 7   contbr_employer    988002 non-null   object \n",
      " 8   contbr_occupation  993301 non-null   object \n",
      " 9   contb_receipt_amt  1001731 non-null  float64\n",
      " 10  contb_receipt_dt   1001731 non-null  object \n",
      " 11  receipt_desc       14166 non-null    object \n",
      " 12  memo_cd            92482 non-null    object \n",
      " 13  memo_text          97770 non-null    object \n",
      " 14  form_tp            1001731 non-null  object \n",
      " 15  file_num           1001731 non-null  int64  \n",
      "dtypes: float64(1), int64(1), object(14)\n",
      "memory usage: 122.3+ MB\n"
     ]
    }
   ],
   "source": [
    "fec.info()"
   ]
  },
  {
   "cell_type": "markdown",
   "id": "4c80cfe1-3c24-4c12-8b99-e41c6e285333",
   "metadata": {},
   "source": [
    "Sample the DataFrame: "
   ]
  },
  {
   "cell_type": "code",
   "execution_count": 127,
   "id": "4a787dc7-8100-46d9-9288-261185ebe38a",
   "metadata": {},
   "outputs": [
    {
     "data": {
      "text/plain": [
       "cmte_id                             C00431445\n",
       "cand_id                             P80003338\n",
       "cand_nm                         Obama, Barack\n",
       "contbr_nm                         ELLMAN, IRA\n",
       "contbr_city                             TEMPE\n",
       "contbr_st                                  AZ\n",
       "contbr_zip                          852816719\n",
       "contbr_employer      ARIZONA STATE UNIVERSITY\n",
       "contbr_occupation                   PROFESSOR\n",
       "contb_receipt_amt                        50.0\n",
       "contb_receipt_dt                    01-DEC-11\n",
       "receipt_desc                             None\n",
       "memo_cd                                  None\n",
       "memo_text                                None\n",
       "form_tp                                 SA17A\n",
       "file_num                               772372\n",
       "Name: 123456, dtype: object"
      ]
     },
     "execution_count": 127,
     "metadata": {},
     "output_type": "execute_result"
    }
   ],
   "source": [
    "fec.iloc[123456]"
   ]
  },
  {
   "cell_type": "markdown",
   "id": "84a54883-afb0-40e0-85f1-7c8b1a5104c3",
   "metadata": {},
   "source": [
    "Get a breakdown of the political parties and a column: "
   ]
  },
  {
   "cell_type": "code",
   "execution_count": 132,
   "id": "36885e8f-81b8-4dd5-a065-b1f292a8ab46",
   "metadata": {},
   "outputs": [],
   "source": [
    "unique_cands = fec.cand_nm.unique()"
   ]
  },
  {
   "cell_type": "code",
   "execution_count": 135,
   "id": "95642ef0-859c-42ef-853e-625c3f371424",
   "metadata": {},
   "outputs": [
    {
     "data": {
      "text/plain": [
       "array(['Bachmann, Michelle', 'Romney, Mitt', 'Obama, Barack',\n",
       "       \"Roemer, Charles E. 'Buddy' III\", 'Pawlenty, Timothy',\n",
       "       'Johnson, Gary Earl', 'Paul, Ron', 'Santorum, Rick',\n",
       "       'Cain, Herman', 'Gingrich, Newt', 'McCotter, Thaddeus G',\n",
       "       'Huntsman, Jon', 'Perry, Rick'], dtype=object)"
      ]
     },
     "execution_count": 135,
     "metadata": {},
     "output_type": "execute_result"
    }
   ],
   "source": [
    "unique_cands"
   ]
  },
  {
   "cell_type": "markdown",
   "id": "c4cb0be3-ee7e-443f-842d-3038f5ce9740",
   "metadata": {},
   "source": [
    "Make a dict of party affiliations using the candidates names as key value pairs."
   ]
  },
  {
   "cell_type": "code",
   "execution_count": 139,
   "id": "4967a7ef-9cdb-4aea-9f72-850994d6574c",
   "metadata": {},
   "outputs": [],
   "source": [
    "parties = {\n",
    "    'Bachmann, Michelle': 'Republican',\n",
    "    'Cain, Herman': 'Republican',\n",
    "    'Gingrich, Newt': 'Republican',\n",
    "    'Huntsman, Jon': 'Republican',\n",
    "    'Johnson, Gary Earl': 'Republican',\n",
    "    'McCotter, Thaddeus G': 'Republican',\n",
    "    'Obama, Barack': 'Democrat',\n",
    "    'Paul, Ron': 'Republican',\n",
    "    'Pawlenty, Timothy': 'Republican',\n",
    "    'Perry, Rick': 'Republican',\n",
    "    \"Roemer, Charles E. 'Buddy' III\": 'Republican',\n",
    "    'Romney, Mitt': 'Republican',\n",
    "    'Santorum, Rick': 'Republican'\n",
    "}"
   ]
  },
  {
   "cell_type": "markdown",
   "id": "15f4b8a9-1843-42d6-924b-a26d8fee5797",
   "metadata": {},
   "source": [
    "Using the map method on a Series of objects computes an array of political parties from the candidates names: "
   ]
  },
  {
   "cell_type": "code",
   "execution_count": 143,
   "id": "77016b88-dbb4-471a-9463-f240c6916e32",
   "metadata": {},
   "outputs": [
    {
     "data": {
      "text/plain": [
       "123456    Obama, Barack\n",
       "123457    Obama, Barack\n",
       "123458    Obama, Barack\n",
       "123459    Obama, Barack\n",
       "123460    Obama, Barack\n",
       "Name: cand_nm, dtype: object"
      ]
     },
     "execution_count": 143,
     "metadata": {},
     "output_type": "execute_result"
    }
   ],
   "source": [
    "fec.cand_nm[123456:123461]"
   ]
  },
  {
   "cell_type": "markdown",
   "id": "95ecc23d-9965-44c3-8bb9-63c9a6ff4450",
   "metadata": {},
   "source": [
    "Add it as a column:  "
   ]
  },
  {
   "cell_type": "code",
   "execution_count": 147,
   "id": "84b350ce-036e-4473-add2-806bc988b0b6",
   "metadata": {},
   "outputs": [],
   "source": [
    "fec['party'] = fec.cand_nm.map(parties)"
   ]
  },
  {
   "cell_type": "code",
   "execution_count": 150,
   "id": "c1d9f5cb-6083-4a8e-86d0-d9b42e698334",
   "metadata": {},
   "outputs": [
    {
     "data": {
      "text/plain": [
       "party\n",
       "Democrat      593746\n",
       "Republican    407985\n",
       "Name: count, dtype: int64"
      ]
     },
     "execution_count": 150,
     "metadata": {},
     "output_type": "execute_result"
    }
   ],
   "source": [
    "fec['party'].value_counts()"
   ]
  },
  {
   "cell_type": "markdown",
   "id": "248aaf2f-e13c-4f9d-9a00-d0f898afda29",
   "metadata": {},
   "source": [
    "The data until this point includes refunds remove this information out of the data. Compare the amount of positive contribution amount: "
   ]
  },
  {
   "cell_type": "code",
   "execution_count": 154,
   "id": "6c8ea823-942b-45d7-b686-e36b4aba292c",
   "metadata": {},
   "outputs": [
    {
     "data": {
      "text/plain": [
       "contb_receipt_amt\n",
       "True     991475\n",
       "False     10256\n",
       "Name: count, dtype: int64"
      ]
     },
     "execution_count": 154,
     "metadata": {},
     "output_type": "execute_result"
    }
   ],
   "source": [
    "(fec.contb_receipt_amt > 0).value_counts()"
   ]
  },
  {
   "cell_type": "markdown",
   "id": "e7b5a836-d44a-46c5-a1b2-4262613ff2d9",
   "metadata": {},
   "source": [
    "Restrict analysis to positive contributions:"
   ]
  },
  {
   "cell_type": "code",
   "execution_count": 173,
   "id": "62f5f8a5-d47a-4ac6-b3c4-438eb434e833",
   "metadata": {},
   "outputs": [],
   "source": [
    "fec = fec[fec.contb_receipt_amt > 0]"
   ]
  },
  {
   "cell_type": "markdown",
   "id": "4a91b388-8f12-4ce1-bef8-ac54a714280b",
   "metadata": {},
   "source": [
    "Restrict analysis to only the top 2 candidates:"
   ]
  },
  {
   "cell_type": "code",
   "execution_count": 178,
   "id": "fde16048-6c6c-4f61-b981-e399e714fa24",
   "metadata": {},
   "outputs": [],
   "source": [
    "fec_mrbo = fec[fec.cand_nm.isin(['Obama, Barack', 'Romney, Mitt'])]"
   ]
  },
  {
   "cell_type": "markdown",
   "id": "cd623ad3-6991-4478-bac7-6cfff3ff6e31",
   "metadata": {},
   "source": [
    "Gather statistics by occupation and employer. Start with first viewing the number of donations by all occupations:"
   ]
  },
  {
   "cell_type": "code",
   "execution_count": 182,
   "id": "8a53c5ed-530e-45f8-b97a-981073ada2e4",
   "metadata": {},
   "outputs": [
    {
     "data": {
      "text/plain": [
       "contbr_occupation\n",
       "RETIRED                                   233990\n",
       "INFORMATION REQUESTED                      35107\n",
       "ATTORNEY                                   34286\n",
       "HOMEMAKER                                  29931\n",
       "PHYSICIAN                                  23432\n",
       "INFORMATION REQUESTED PER BEST EFFORTS     21138\n",
       "ENGINEER                                   14334\n",
       "TEACHER                                    13990\n",
       "CONSULTANT                                 13273\n",
       "PROFESSOR                                  12555\n",
       "NOT EMPLOYED                                9828\n",
       "SALES                                       8333\n",
       "LAWYER                                      8283\n",
       "MANAGER                                     8024\n",
       "PRESIDENT                                   7758\n",
       "STUDENT                                     7071\n",
       "OWNER                                       6343\n",
       "EXECUTIVE                                   5506\n",
       "SELF-EMPLOYED                               5472\n",
       "WRITER                                      5128\n",
       "SOFTWARE ENGINEER                           4960\n",
       "CEO                                         4932\n",
       "BUSINESS OWNER                              4380\n",
       "ACCOUNTANT                                  4175\n",
       "ARTIST                                      3724\n",
       "EDUCATOR                                    3576\n",
       "RN                                          3262\n",
       "REGISTERED NURSE                            3079\n",
       "INVESTOR                                    2708\n",
       "REAL ESTATE                                 2644\n",
       "Name: count, dtype: int64"
      ]
     },
     "execution_count": 182,
     "metadata": {},
     "output_type": "execute_result"
    }
   ],
   "source": [
    "fec.contbr_occupation.value_counts()[:30]"
   ]
  },
  {
   "cell_type": "markdown",
   "id": "0ac2af7e-14e8-406b-b4b5-dfae50dcffdc",
   "metadata": {},
   "source": [
    "There are several jobs that are the same occupation, so clean up the data by mapping similar occupations together by dict.get(). Do this for both the job and employers:"
   ]
  },
  {
   "cell_type": "code",
   "execution_count": null,
   "id": "8d7e3ec0-2353-4932-ac80-499ef10b6d01",
   "metadata": {},
   "outputs": [],
   "source": [
    "occ_mapping = {\n",
    "    'INFORMATION REQUESTED PER BEST EFFORTS' : 'NOT PROVIDED',\n",
    "    'INFORMATION REQUESTED' : 'NOT PROVIDED',\n",
    "    'INFORMATION REQUESTED (BEST EFFORTS)' : 'NOT PROVIDED',\n",
    "    'C.E.O.': 'CEO'\n",
    "}"
   ]
  },
  {
   "cell_type": "code",
   "execution_count": null,
   "id": "b3a556ca-d300-47ce-966e-e4b93ef7f11d",
   "metadata": {},
   "outputs": [],
   "source": [
    "# If no mapping provided return x "
   ]
  },
  {
   "cell_type": "code",
   "execution_count": null,
   "id": "01ec6a12-2cdb-478a-99ed-ad8cc0f812e9",
   "metadata": {},
   "outputs": [],
   "source": [
    "f = lambda x: occ_mapping.get(x, x)\n",
    "fec.contbr_occupation = fec.contbr_occupation.map(f)"
   ]
  },
  {
   "cell_type": "code",
   "execution_count": null,
   "id": "15de83bf-fc9f-46dc-9dce-89f7adeedade",
   "metadata": {},
   "outputs": [],
   "source": []
  },
  {
   "cell_type": "code",
   "execution_count": null,
   "id": "da3ce16c-883c-445f-9c89-32aaaba4f4db",
   "metadata": {},
   "outputs": [],
   "source": []
  },
  {
   "cell_type": "code",
   "execution_count": null,
   "id": "53d91abc-a6f9-4bd4-ba6d-736390d1516b",
   "metadata": {},
   "outputs": [],
   "source": []
  },
  {
   "cell_type": "code",
   "execution_count": null,
   "id": "c3445af3-40f1-4558-a8af-c15ce81e336b",
   "metadata": {},
   "outputs": [],
   "source": []
  },
  {
   "cell_type": "code",
   "execution_count": null,
   "id": "6a058ec5-af54-4dba-ba21-ba13bed40dfd",
   "metadata": {},
   "outputs": [],
   "source": []
  },
  {
   "cell_type": "code",
   "execution_count": null,
   "id": "52f33a58-496b-44fd-8671-0e542909517d",
   "metadata": {},
   "outputs": [],
   "source": []
  },
  {
   "cell_type": "code",
   "execution_count": null,
   "id": "e5ed80cb-51f2-483a-9d1b-696166b92b45",
   "metadata": {},
   "outputs": [],
   "source": []
  }
 ],
 "metadata": {
  "kernelspec": {
   "display_name": "Python [conda env:base] *",
   "language": "python",
   "name": "conda-base-py"
  },
  "language_info": {
   "codemirror_mode": {
    "name": "ipython",
    "version": 3
   },
   "file_extension": ".py",
   "mimetype": "text/x-python",
   "name": "python",
   "nbconvert_exporter": "python",
   "pygments_lexer": "ipython3",
   "version": "3.12.7"
  }
 },
 "nbformat": 4,
 "nbformat_minor": 5
}
